{
 "cells": [
  {
   "cell_type": "markdown",
   "metadata": {
    "papermill": {
     "duration": 0.005384,
     "end_time": "2020-11-27T04:55:24.411137",
     "exception": false,
     "start_time": "2020-11-27T04:55:24.405753",
     "status": "completed"
    },
    "tags": []
   },
   "source": [
    "# Dijkstras Algorithm"
   ]
  },
  {
   "cell_type": "code",
   "execution_count": 1,
   "metadata": {
    "_cell_guid": "b1076dfc-b9ad-4769-8c92-a6c4dae69d19",
    "_uuid": "8f2839f25d086af736a60e9eeb907d3b93b6e0e5",
    "execution": {
     "iopub.execute_input": "2020-11-27T04:55:24.439125Z",
     "iopub.status.busy": "2020-11-27T04:55:24.438026Z",
     "iopub.status.idle": "2020-11-27T04:55:24.441940Z",
     "shell.execute_reply": "2020-11-27T04:55:24.441140Z"
    },
    "papermill": {
     "duration": 0.026434,
     "end_time": "2020-11-27T04:55:24.442068",
     "exception": false,
     "start_time": "2020-11-27T04:55:24.415634",
     "status": "completed"
    },
    "tags": []
   },
   "outputs": [],
   "source": [
    "import sys\n",
    "\n",
    "class Graph: \n",
    "    def __init__(self,vertices):\n",
    "        self.V = vertices \n",
    "        self.graph = [[0 for column in range(vertices)]  \n",
    "                    for row in range(vertices)]\n",
    "    \n",
    "    def printSolution(self, dist): \n",
    "        print(\"Vertex \\tDistance from Source\")\n",
    "        for node in range(self.V): \n",
    "            print(node, \"\\t\", dist[node]) \n",
    "   \n",
    "    def minDistance(self, dist, sptSet): \n",
    "       \n",
    "        min = sys.maxsize \n",
    "  \n",
    "        for v in range(self.V): \n",
    "            if dist[v] < min and sptSet[v] == False: \n",
    "                min = dist[v] \n",
    "                min_index = v \n",
    "  \n",
    "        return min_index \n",
    "    \n",
    "    def dijkstra(self, src):\n",
    "        dist = [sys.maxsize] * self.V \n",
    "        dist[src] = 0\n",
    "        sptSet = [False] * self.V \n",
    "  \n",
    "        for cout in range(self.V): \n",
    "\n",
    "            u = self.minDistance(dist, sptSet) \n",
    "            \n",
    "            sptSet[u] = True\n",
    "            \n",
    "            for v in range(self.V): \n",
    "                if self.graph[u][v] > 0 and sptSet[v] == False and dist[v] > dist[u] + self.graph[u][v]: \n",
    "                        dist[v] = dist[u] + self.graph[u][v] \n",
    "  \n",
    "        self.printSolution(dist) \n",
    "    \n"
   ]
  },
  {
   "cell_type": "markdown",
   "metadata": {
    "papermill": {
     "duration": 0.004198,
     "end_time": "2020-11-27T04:55:24.453028",
     "exception": false,
     "start_time": "2020-11-27T04:55:24.448830",
     "status": "completed"
    },
    "tags": []
   },
   "source": [
    "## Test 1"
   ]
  },
  {
   "cell_type": "code",
   "execution_count": 2,
   "metadata": {
    "_cell_guid": "79c7e3d0-c299-4dcb-8224-4455121ee9b0",
    "_uuid": "d629ff2d2480ee46fbb7e2d37f6b5fab8052498a",
    "execution": {
     "iopub.execute_input": "2020-11-27T04:55:24.476866Z",
     "iopub.status.busy": "2020-11-27T04:55:24.475706Z",
     "iopub.status.idle": "2020-11-27T04:55:24.481762Z",
     "shell.execute_reply": "2020-11-27T04:55:24.480181Z"
    },
    "papermill": {
     "duration": 0.024494,
     "end_time": "2020-11-27T04:55:24.481955",
     "exception": false,
     "start_time": "2020-11-27T04:55:24.457461",
     "status": "completed"
    },
    "tags": []
   },
   "outputs": [
    {
     "name": "stdout",
     "output_type": "stream",
     "text": [
      "Vertex \tDistance from Source\n",
      "0 \t 0\n",
      "1 \t 4\n",
      "2 \t 12\n",
      "3 \t 19\n",
      "4 \t 21\n",
      "5 \t 11\n",
      "6 \t 9\n",
      "7 \t 8\n",
      "8 \t 14\n"
     ]
    }
   ],
   "source": [
    "g = Graph(9) \n",
    "g.graph = [[0, 4, 0, 0, 0, 0, 0, 8, 0], \n",
    "        [4, 0, 8, 0, 0, 0, 0, 11, 0], \n",
    "        [0, 8, 0, 7, 0, 4, 0, 0, 2], \n",
    "        [0, 0, 7, 0, 9, 14, 0, 0, 0], \n",
    "        [0, 0, 0, 9, 0, 10, 0, 0, 0], \n",
    "        [0, 0, 4, 14, 10, 0, 2, 0, 0], \n",
    "        [0, 0, 0, 0, 0, 2, 0, 1, 6], \n",
    "        [8, 11, 0, 0, 0, 0, 1, 0, 7], \n",
    "        [0, 0, 2, 0, 0, 0, 6, 7, 0] \n",
    "        ]\n",
    "  \n",
    "g.dijkstra(0)"
   ]
  }
 ],
 "metadata": {
  "kernelspec": {
   "display_name": "Python 3",
   "language": "python",
   "name": "python3"
  },
  "language_info": {
   "codemirror_mode": {
    "name": "ipython",
    "version": 3
   },
   "file_extension": ".py",
   "mimetype": "text/x-python",
   "name": "python",
   "nbconvert_exporter": "python",
   "pygments_lexer": "ipython3",
   "version": "3.7.6"
  },
  "papermill": {
   "duration": 5.631691,
   "end_time": "2020-11-27T04:55:24.596471",
   "environment_variables": {},
   "exception": null,
   "input_path": "__notebook__.ipynb",
   "output_path": "__notebook__.ipynb",
   "parameters": {},
   "start_time": "2020-11-27T04:55:18.964780",
   "version": "2.1.0"
  }
 },
 "nbformat": 4,
 "nbformat_minor": 4
}
